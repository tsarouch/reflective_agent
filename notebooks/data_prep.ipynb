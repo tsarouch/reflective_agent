{
 "cells": [
  {
   "cell_type": "code",
   "execution_count": null,
   "id": "0",
   "metadata": {},
   "outputs": [],
   "source": [
    "%load_ext autoreload\n",
    "%autoreload 2"
   ]
  },
  {
   "cell_type": "code",
   "execution_count": null,
   "id": "1",
   "metadata": {},
   "outputs": [],
   "source": [
    "import sys\n",
    "import os\n",
    "\n",
    "import openai\n",
    "import base64\n",
    "import pandas as pd\n",
    "from io import StringIO\n",
    "\n",
    "# Get the absolute path to the modules directory\n",
    "module_path = os.path.abspath(os.path.join(\"..\", \"project_s\"))\n",
    "if module_path not in sys.path:\n",
    "    sys.path.append(module_path)"
   ]
  },
  {
   "cell_type": "code",
   "execution_count": null,
   "id": "2",
   "metadata": {},
   "outputs": [],
   "source": [
    "import os\n",
    "from dotenv import load_dotenv\n",
    "\n",
    "# Load from .env file\n",
    "load_dotenv()\n",
    "OPENAI_API_KEY = os.getenv('OPENAI_KEY')"
   ]
  },
  {
   "cell_type": "code",
   "execution_count": null,
   "id": "3",
   "metadata": {},
   "outputs": [],
   "source": [
    "DATA_SCREEN_TIME_DIR = os.path.join(\"..\", \"data\", \"screen_time\")\n",
    "DATA_SCREEN_TIME_PICKLE = os.path.join(\"..\", \"data\", \"screen_time\", \"screen_time.pickle\")\n",
    "DATA_CALENDAR = os.path.join(\"..\", \"data\", \"calendar\", \"CT_calendar.CSV\")  \n",
    "DATA_CALENDAR_PICKLE = os.path.join(\"..\", \"data\", \"calendar\", \"CT_calendar.pickle\")\n",
    "DATA_JOURNAL_DIR = os.path.join(\"..\", \"data\", \"journal\")\n",
    "DATA_JOURNAL_TXT_FILE = os.path.join(\"..\", \"data\", \"journal\", \"journal.txt\")    \n",
    "DATA_JOURNAL_JSON_FILE = os.path.join(\"..\", \"data\", \"journal\", \"journal.json\")   \n",
    "DATA_JOURNAL_PICKLE = os.path.join(\"..\", \"data\", \"journal\", \"journal.pickle\")   \n",
    "DATA_WEEKLY_NOTES_DIR = os.path.join(\"..\", \"data\", \"weekly_notes\")\n",
    "DATA_WEEKLY_NOTES_PICKLE = os.path.join(\"..\", \"data\", \"weekly_notes\", \"weekly_notes.pickle\")\n",
    "\n"
   ]
  },
  {
   "cell_type": "markdown",
   "id": "4",
   "metadata": {},
   "source": [
    "### Debug screen time"
   ]
  },
  {
   "cell_type": "code",
   "execution_count": null,
   "id": "5",
   "metadata": {},
   "outputs": [],
   "source": [
    "from perception_screen_time import parse_all_screentime_images\n",
    "df_screen_time = parse_all_screentime_images(DATA_SCREEN_TIME_DIR, OPENAI_API_KEY) \n",
    "df_screen_time.head(2)\n",
    "df_screen_time.to_pickle(DATA_SCREEN_TIME_PICKLE)"
   ]
  },
  {
   "cell_type": "markdown",
   "id": "6",
   "metadata": {},
   "source": [
    "### Debug calendar"
   ]
  },
  {
   "cell_type": "code",
   "execution_count": null,
   "id": "7",
   "metadata": {},
   "outputs": [],
   "source": [
    "from perception_cal import parse_and_clean_cal_data\n",
    "df_cal = parse_and_clean_cal_data(DATA_CALENDAR)\n",
    "df_cal.to_pickle(DATA_CALENDAR_PICKLE)\n",
    "df_cal.head(2)"
   ]
  },
  {
   "cell_type": "markdown",
   "id": "8",
   "metadata": {},
   "source": [
    "### Debug Journal"
   ]
  },
  {
   "cell_type": "code",
   "execution_count": null,
   "id": "9",
   "metadata": {},
   "outputs": [],
   "source": [
    "from perception_journal import parse_all_journal_images, parse_journal_text, read_json_to_dataframe, save_to_json\n",
    "journal_txt = parse_all_journal_images(DATA_JOURNAL_DIR, OPENAI_API_KEY)\n",
    "with open(DATA_JOURNAL_TXT_FILE, \"w\") as file:\n",
    "    file.write(journal_txt)\n",
    "\n",
    "# TODO for future reference, some dates might cause problems - needs to be build even more robust\n",
    "save_to_json(parse_journal_text(DATA_JOURNAL_TXT_FILE), output_path=DATA_JOURNAL_JSON_FILE)\n",
    "pd.to_pickle(read_json_to_dataframe(DATA_JOURNAL_JSON_FILE), DATA_JOURNAL_PICKLE)\n"
   ]
  },
  {
   "cell_type": "code",
   "execution_count": null,
   "id": "10",
   "metadata": {},
   "outputs": [],
   "source": [
    "read_json_to_dataframe(DATA_JOURNAL_JSON_FILE).head(2)"
   ]
  },
  {
   "cell_type": "markdown",
   "id": "11",
   "metadata": {},
   "source": [
    "### Debug Weekly Notes"
   ]
  },
  {
   "cell_type": "code",
   "execution_count": null,
   "id": "12",
   "metadata": {},
   "outputs": [],
   "source": [
    "from perception_weekly_notes import parse_all_weekly_reflections\n",
    "df_notes = parse_all_weekly_reflections(DATA_WEEKLY_NOTES_DIR, OPENAI_API_KEY)\n",
    "df_notes.to_pickle(DATA_WEEKLY_NOTES_PICKLE)    \n",
    "df_notes.head(2)"
   ]
  },
  {
   "cell_type": "code",
   "execution_count": null,
   "id": "13",
   "metadata": {},
   "outputs": [],
   "source": []
  }
 ],
 "metadata": {
  "kernelspec": {
   "display_name": "genai-gr",
   "language": "python",
   "name": "python3"
  },
  "language_info": {
   "codemirror_mode": {
    "name": "ipython",
    "version": 3
   },
   "file_extension": ".py",
   "mimetype": "text/x-python",
   "name": "python",
   "nbconvert_exporter": "python",
   "pygments_lexer": "ipython3",
   "version": "3.10.16"
  }
 },
 "nbformat": 4,
 "nbformat_minor": 5
}
