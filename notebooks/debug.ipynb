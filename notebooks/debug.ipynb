{
 "cells": [
  {
   "cell_type": "code",
   "execution_count": null,
   "id": "0",
   "metadata": {},
   "outputs": [],
   "source": [
    "%load_ext autoreload\n",
    "%autoreload 2"
   ]
  },
  {
   "cell_type": "code",
   "execution_count": null,
   "id": "1",
   "metadata": {},
   "outputs": [],
   "source": [
    "import sys\n",
    "import os\n",
    "\n",
    "import openai\n",
    "import base64\n",
    "import pandas as pd\n",
    "from io import StringIO\n",
    "\n",
    "import pandas as pd\n",
    "import json\n",
    "from datetime import datetime, timedelta\n",
    "\n",
    "# Get the absolute path to the modules directory\n",
    "module_path = os.path.abspath(os.path.join(\"..\", \"project_s\"))\n",
    "if module_path not in sys.path:\n",
    "    sys.path.append(module_path)"
   ]
  },
  {
   "cell_type": "code",
   "execution_count": null,
   "id": "2",
   "metadata": {},
   "outputs": [],
   "source": [
    "from config import (\n",
    "    DATA_WEEKLY_NOTES_PICKLE,\n",
    "    DATA_SCREEN_TIME_PICKLE,\n",
    "    DATA_CALENDAR_PICKLE,\n",
    "    DATA_WEEKLY_PERCEPTION_PICKLE, \n",
    "    DATA_WEEKLY_NOTES_DIR,\n",
    "    DATA_SCREEN_TIME_DIR,\n",
    "    DATA_CALENDAR_DIR\n",
    ")\n"
   ]
  },
  {
   "cell_type": "markdown",
   "id": "3",
   "metadata": {},
   "source": [
    "## Perception"
   ]
  },
  {
   "cell_type": "code",
   "execution_count": null,
   "id": "4",
   "metadata": {},
   "outputs": [],
   "source": [
    "\n",
    "\n",
    "from perception import perception_node\n",
    "\n",
    "weekly_notes_df = pd.read_pickle(DATA_WEEKLY_NOTES_PICKLE)\n",
    "screen_time_df = pd.read_pickle(DATA_SCREEN_TIME_PICKLE)\n",
    "calendar_df = pd.read_pickle(DATA_CALENDAR_PICKLE)\n",
    "\n",
    "perception_df = perception_node(weekly_notes_df, screen_time_df, calendar_df)\n",
    "\n",
    "# Save result\n",
    "perception_df.to_pickle(DATA_WEEKLY_PERCEPTION_PICKLE)\n",
    "perception_df.head(2)\n",
    "\n"
   ]
  },
  {
   "cell_type": "markdown",
   "id": "5",
   "metadata": {},
   "source": [
    "## Journal Archetypes"
   ]
  },
  {
   "cell_type": "code",
   "execution_count": null,
   "id": "6",
   "metadata": {},
   "outputs": [],
   "source": [
    "from journal_archetypes import extract_journal_archetypes\n",
    "from config import DATA_JOURNAL_PICKLE, OPENAI_API_KEY\n",
    "\n",
    "journal_df = pd.read_pickle(DATA_JOURNAL_PICKLE)\n",
    "themes = extract_journal_archetypes(journal_df, OPENAI_API_KEY)\n",
    "\n",
    "state[\"journal_themes\"] = themes\n"
   ]
  },
  {
   "cell_type": "markdown",
   "id": "7",
   "metadata": {},
   "source": [
    "## Interpretation"
   ]
  },
  {
   "cell_type": "code",
   "execution_count": null,
   "id": "8",
   "metadata": {},
   "outputs": [],
   "source": [
    "from config import DATA_WEEKLY_PERCEPTION_PICKLE, DATA_JOURNAL_PICKLE, OPENAI_API_KEY\n",
    "\n",
    "from interpretation import interpretation_node\n",
    "\n",
    "# Load data\n",
    "weekly_df = pd.read_pickle(DATA_WEEKLY_PERCEPTION_PICKLE)\n",
    "journal_df = pd.read_pickle(DATA_JOURNAL_PICKLE)\n",
    "\n",
    "# Test single row\n",
    "state = weekly_df.iloc[0].to_dict()\n",
    "result = interpretation_node(state, journal_df, OPENAI_API_KEY)\n",
    "print(result[\"interpretation\"])\n",
    "\n",
    "\n"
   ]
  },
  {
   "cell_type": "markdown",
   "id": "9",
   "metadata": {},
   "source": [
    "## Socratic"
   ]
  },
  {
   "cell_type": "code",
   "execution_count": null,
   "id": "10",
   "metadata": {},
   "outputs": [],
   "source": [
    "from config import OPENAI_API_KEY, DATA_WEEKLY_PERCEPTION_JSON_FILE, DATA_JOURNAL_TXT_FILE\n",
    "\n",
    "with open(DATA_JOURNAL_TXT_FILE, \"r\", encoding=\"utf-8\") as file:\n",
    "    journal_txt = file.read()\n",
    "\n",
    "state = {\n",
    "    \"journal_text\": journal_txt,\n",
    "    \"weekly_perception_text\": pd.read_json(DATA_WEEKLY_PERCEPTION_JSON_FILE).iloc[1].to_dict()\n",
    "}"
   ]
  },
  {
   "cell_type": "code",
   "execution_count": null,
   "id": "11",
   "metadata": {},
   "outputs": [],
   "source": [
    "from project_s.project_s.socratic import socratic_node, format_reflection, deep_socratic_node\n",
    "from config import OPENAI_API_KEY\n",
    "\n",
    "updated_state = deep_socratic_node(state, OPENAI_API_KEY)\n",
    "print(updated_state[\"socratic_observation\"])\n",
    "\n"
   ]
  },
  {
   "cell_type": "markdown",
   "id": "12",
   "metadata": {},
   "source": [
    "## Whisper"
   ]
  },
  {
   "cell_type": "code",
   "execution_count": null,
   "id": "13",
   "metadata": {},
   "outputs": [],
   "source": [
    "from project_s.project_s.whisper import send_reflective_message\n",
    "TWILIO_ACCOUNT_SID = os.getenv('TWILIO_ACCOUNT_SID')\n",
    "TWILIO_AUTH_TOKEN = os.getenv('TWILIO_AUTH_TOKEN')\n",
    "TO_NUMBER = os.getenv('PHONE_NUMBER')\n",
    "send_reflective_message(\n",
    "    message=updated_state[\"socratic_observation\"],\n",
    "    account_sid=TWILIO_ACCOUNT_SID,\n",
    "    auth_token=TWILIO_AUTH_TOKEN,\n",
    "    from_number=\"whatsapp:+14155238886\",\n",
    "    to_number=\"whatsapp:\"+TO_NUMBER\n",
    ")"
   ]
  },
  {
   "cell_type": "markdown",
   "id": "14",
   "metadata": {},
   "source": [
    "## Prepare data for graph states"
   ]
  },
  {
   "cell_type": "code",
   "execution_count": null,
   "id": "15",
   "metadata": {},
   "outputs": [],
   "source": [
    "import pandas as pd\n",
    "import os\n",
    "import pandas as pd\n",
    "import os\n",
    "\n",
    "def split_weekly_notes_df(input_path: str, output_dir: str):\n",
    "    \"\"\"\n",
    "    Loads a DataFrame of weekly notes and saves each row as a single-row DataFrame\n",
    "    into its own pickle file using the 'week' column as the filename identifier.\n",
    "    \"\"\"\n",
    "    os.makedirs(output_dir, exist_ok=True)\n",
    "\n",
    "    df = pd.read_pickle(input_path)\n",
    "\n",
    "    if \"week\" not in df.columns:\n",
    "        raise ValueError(\"The dataframe must have a 'week' column.\")\n",
    "\n",
    "    for _, row in df.iterrows():\n",
    "        week_label = row[\"week\"]\n",
    "        if pd.isna(week_label):\n",
    "            continue\n",
    "\n",
    "        safe_week = str(week_label).replace(\" \", \"_\").replace(\"/\", \"-\")\n",
    "        output_path = os.path.join(output_dir, f\"week_{safe_week}.pickle\")\n",
    "\n",
    "        # ✅ Save as single-row DataFrame\n",
    "        pd.to_pickle(pd.DataFrame([row]), output_path)\n",
    "\n",
    "    return f\"Saved {len(df)} weekly entries to {output_dir}\"\n",
    "\n",
    "\n",
    "\n",
    "\n",
    "split_weekly_notes_df(DATA_WEEKLY_NOTES_PICKLE, DATA_WEEKLY_NOTES_DIR)\n",
    "\n"
   ]
  },
  {
   "cell_type": "code",
   "execution_count": null,
   "id": "16",
   "metadata": {},
   "outputs": [],
   "source": [
    "import pandas as pd\n",
    "import os\n",
    "\n",
    "def split_screen_time_by_week(input_path: str, output_dir: str):\n",
    "    \"\"\"\n",
    "    Splits a screen time DataFrame by 'week' and saves each group as a separate pickle file.\n",
    "\n",
    "    Args:\n",
    "        input_path (str): Path to the combined screen time pickle.\n",
    "        output_dir (str): Directory to save weekly screen time pickle files.\n",
    "    \"\"\"\n",
    "    os.makedirs(output_dir, exist_ok=True)\n",
    "\n",
    "    df = pd.read_pickle(input_path)\n",
    "\n",
    "    if \"week\" not in df.columns:\n",
    "        raise ValueError(\"The dataframe must have a 'week' column.\")\n",
    "\n",
    "    for week, group in df.groupby(\"week\"):\n",
    "        safe_week = str(week).replace(\" \", \"_\").replace(\"/\", \"-\")\n",
    "        output_path = os.path.join(output_dir, f\"week_{safe_week}.pickle\")\n",
    "        pd.to_pickle(group, output_path)\n",
    "\n",
    "    return f\"Saved {len(df['week'].unique())} weekly screen time files to {output_dir}\"\n",
    "\n",
    "split_screen_time_by_week(DATA_SCREEN_TIME_PICKLE, DATA_SCREEN_TIME_DIR)    "
   ]
  },
  {
   "cell_type": "code",
   "execution_count": null,
   "id": "17",
   "metadata": {},
   "outputs": [],
   "source": [
    "pd.read_pickle(\"../data/calendar/CT_calendar.pickle\").head(2)"
   ]
  },
  {
   "cell_type": "code",
   "execution_count": null,
   "id": "18",
   "metadata": {},
   "outputs": [],
   "source": [
    "import pandas as pd\n",
    "import os\n",
    "\n",
    "def split_calendar_by_week(input_path: str, output_dir: str):\n",
    "    \"\"\"\n",
    "    Loads calendar data and splits it by week based on the 'start' datetime column.\n",
    "    Saves each week's calendar as a separate pickle file.\n",
    "\n",
    "    Args:\n",
    "        input_path (str): Path to the combined calendar pickle.\n",
    "        output_dir (str): Directory to save weekly pickle files.\n",
    "    \"\"\"\n",
    "    os.makedirs(output_dir, exist_ok=True)\n",
    "\n",
    "    df = pd.read_pickle(input_path)\n",
    "\n",
    "    if \"start\" not in df.columns:\n",
    "        raise ValueError(\"The dataframe must contain a 'start' datetime column.\")\n",
    "\n",
    "    # Ensure 'start' is datetime\n",
    "    df[\"start\"] = pd.to_datetime(df[\"start\"])\n",
    "\n",
    "    # Create a readable week label: e.g., \"Jun 23–29\"\n",
    "    df[\"week\"] = df[\"start\"].dt.to_period(\"W\").apply(\n",
    "        lambda p: f\"{p.start_time.strftime('%b %d')}–{(p.start_time + pd.Timedelta(days=6)).strftime('%d')}\"\n",
    "    )\n",
    "\n",
    "    # Group and save\n",
    "    for week, group in df.groupby(\"week\"):\n",
    "        safe_week = week.replace(\" \", \"_\").replace(\"/\", \"-\")\n",
    "        output_path = os.path.join(output_dir, f\"week_{safe_week}.pickle\")\n",
    "        pd.to_pickle(group, output_path)\n",
    "\n",
    "    return f\"Saved {len(df['week'].unique())} weekly calendar files to {output_dir}\"\n",
    "\n",
    "split_calendar_by_week(DATA_CALENDAR_PICKLE, DATA_CALENDAR_DIR)\n",
    "\n"
   ]
  },
  {
   "cell_type": "code",
   "execution_count": null,
   "id": "19",
   "metadata": {},
   "outputs": [],
   "source": []
  }
 ],
 "metadata": {
  "kernelspec": {
   "display_name": "genai-gr",
   "language": "python",
   "name": "python3"
  },
  "language_info": {
   "codemirror_mode": {
    "name": "ipython",
    "version": 3
   },
   "file_extension": ".py",
   "mimetype": "text/x-python",
   "name": "python",
   "nbconvert_exporter": "python",
   "pygments_lexer": "ipython3",
   "version": "3.10.16"
  }
 },
 "nbformat": 4,
 "nbformat_minor": 5
}
