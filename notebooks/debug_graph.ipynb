{
 "cells": [
  {
   "cell_type": "code",
   "execution_count": null,
   "id": "0",
   "metadata": {},
   "outputs": [],
   "source": [
    "%load_ext autoreload\n",
    "%autoreload 2"
   ]
  },
  {
   "cell_type": "code",
   "execution_count": null,
   "id": "1",
   "metadata": {},
   "outputs": [],
   "source": [
    "import os\n",
    "import sys\n",
    "import pandas as pd\n",
    "\n",
    "# Get the absolute path to the modules directory\n",
    "module_path = os.path.abspath(os.path.join(\"..\", \"project_s\"))\n",
    "if module_path not in sys.path:\n",
    "    sys.path.append(module_path)\n"
   ]
  },
  {
   "cell_type": "markdown",
   "id": "2",
   "metadata": {},
   "source": [
    "## Run for one week"
   ]
  },
  {
   "cell_type": "code",
   "execution_count": null,
   "id": "3",
   "metadata": {},
   "outputs": [],
   "source": [
    "from graph import build_graph\n",
    "from graph_state import GraphState\n",
    "\n",
    "from config import (\n",
    "    DATA_JOURNAL_TXT_FILE,\n",
    "    DATA_JOURNAL_PICKLE,\n",
    "    DATA_WEEKLY_PERCEPTION_JSON_FILE,\n",
    "    DATA_WEEKLY_NOTES_PICKLE,\n",
    "    DATA_SCREEN_TIME_PICKLE,\n",
    "    \n",
    "    TWILIO_ACCOUNT_SID,\n",
    "    TWILIO_AUTH_TOKEN,\n",
    "    FROM_NUMBER,\n",
    "    TO_NUMBER,\n",
    "    OPENAI_API_KEY\n",
    ")\n",
    "\n",
    "initial_state = GraphState(\n",
    "    journal_text=open(DATA_JOURNAL_TXT_FILE).read(),\n",
    "    weekly_perception_text=open(DATA_WEEKLY_PERCEPTION_JSON_FILE).read(),\n",
    "    weekly_notes_df=pd.read_pickle(\"../data/weekly_notes/week_Jun_23–29.pickle\"),\n",
    "    screen_time_df=pd.read_pickle(\"../data/screen_time/week_Jun_23–29.pickle\"),\n",
    "    calendar_df=pd.read_pickle(\"../data/calendar/week_Jun_23–29.pickle\"),\n",
    "    openai_key=OPENAI_API_KEY,\n",
    "    twilio_sid=TWILIO_ACCOUNT_SID,\n",
    "    twilio_token=TWILIO_AUTH_TOKEN,\n",
    "    twilio_from=\"whatsapp:\"+FROM_NUMBER,\n",
    "    twilio_to=\"whatsapp:\"+TO_NUMBER\n",
    ")\n",
    "\n",
    "graph = build_graph()\n",
    "final_state = graph.invoke(initial_state)\n",
    "\n"
   ]
  },
  {
   "cell_type": "markdown",
   "id": "4",
   "metadata": {},
   "source": [
    "## Visualize Graph"
   ]
  },
  {
   "cell_type": "code",
   "execution_count": null,
   "id": "5",
   "metadata": {},
   "outputs": [],
   "source": [
    "def export_mermaid_manual(filename=\"reflective_graph.mmd\"):\n",
    "    mermaid_text = \"\"\"graph TD\n",
    "    perceive --> reflect\n",
    "    reflect --> whisper\n",
    "    whisper --> END\n",
    "    \"\"\"\n",
    "\n",
    "    with open(filename, \"w\") as f:\n",
    "        f.write(mermaid_text)\n",
    "\n",
    "export_mermaid_manual()"
   ]
  },
  {
   "cell_type": "markdown",
   "id": "6",
   "metadata": {},
   "source": [
    "## Simulate run for all weeks"
   ]
  },
  {
   "cell_type": "code",
   "execution_count": null,
   "id": "7",
   "metadata": {},
   "outputs": [],
   "source": [
    "import os\n",
    "import pandas as pd\n",
    "from graph import build_graph\n",
    "from graph_state import GraphState\n",
    "from perception import perception_node\n",
    "from config import (\n",
    "    DATA_JOURNAL_TXT_FILE,\n",
    "    DATA_WEEKLY_NOTES_DIR,\n",
    "    DATA_SCREEN_TIME_DIR,\n",
    "    DATA_CALENDAR_DIR,\n",
    "    OPENAI_API_KEY,\n",
    "    TWILIO_ACCOUNT_SID,\n",
    "    TWILIO_AUTH_TOKEN,\n",
    "    FROM_NUMBER,\n",
    "    TO_NUMBER,\n",
    ")\n",
    "\n",
    "# Load static journal text\n",
    "journal_text = open(DATA_JOURNAL_TXT_FILE).read()\n",
    "\n",
    "# Compile the graph once\n",
    "graph = build_graph()\n",
    "\n",
    "# Loop through all weeks\n",
    "for filename in sorted(os.listdir(DATA_WEEKLY_NOTES_DIR)):\n",
    "    if not filename.endswith(\".pickle\"):\n",
    "        continue\n",
    "\n",
    "    # Extract base name (e.g. week_Jun_23–29)\n",
    "    week_id = filename.replace(\".pickle\", \"\")\n",
    "    print(f\"📆 Processing {week_id}\")\n",
    "\n",
    "    # Build file paths\n",
    "    notes_path = os.path.join(DATA_WEEKLY_NOTES_DIR, filename)\n",
    "    screen_path = os.path.join(DATA_SCREEN_TIME_DIR, f\"{week_id}.pickle\")\n",
    "    calendar_path = os.path.join(DATA_CALENDAR_DIR, f\"{week_id}.pickle\")\n",
    "\n",
    "    # Load data\n",
    "    weekly_notes_df = pd.read_pickle(notes_path)\n",
    "    screen_time_df = pd.read_pickle(screen_path)\n",
    "    calendar_df = pd.read_pickle(calendar_path)\n",
    "\n",
    "    # Derive perception - currently not used in the agentic design/socratic node, but prepared for a future extension.\n",
    "    perception_df = perception_node(weekly_notes_df, screen_time_df, calendar_df)\n",
    "    weekly_perception_text = perception_df.to_string(index=False)\n",
    "\n",
    "    # Build state\n",
    "    state = GraphState(\n",
    "        journal_text=journal_text,\n",
    "        weekly_perception_text=weekly_perception_text,\n",
    "        weekly_notes_df=weekly_notes_df,\n",
    "        screen_time_df=screen_time_df,\n",
    "        calendar_df=calendar_df,\n",
    "        openai_key=OPENAI_API_KEY,\n",
    "        twilio_sid=TWILIO_ACCOUNT_SID,\n",
    "        twilio_token=TWILIO_AUTH_TOKEN,\n",
    "        twilio_from=\"whatsapp:\" + FROM_NUMBER,\n",
    "        twilio_to=\"whatsapp:\" + TO_NUMBER\n",
    "    )\n",
    "\n",
    "    # Run the graph\n",
    "    # final_state = graph.invoke(state)\n",
    "    final_state_raw = graph.invoke(state)\n",
    "    final_state = GraphState(**final_state_raw)\n",
    "    \n",
    "    # Print preview\n",
    "    whisper_meta = final_state.whisper_status or {}\n",
    "    preview = whisper_meta.get(\"preview\", \"<no preview>\")\n",
    "    print(f\"✅ Message sent for {week_id}:\")\n",
    "    print(preview)\n",
    "    print(\"-\" * 40)\n"
   ]
  },
  {
   "cell_type": "code",
   "execution_count": null,
   "id": "8",
   "metadata": {},
   "outputs": [],
   "source": []
  }
 ],
 "metadata": {
  "kernelspec": {
   "display_name": "genai-gr",
   "language": "python",
   "name": "python3"
  },
  "language_info": {
   "codemirror_mode": {
    "name": "ipython",
    "version": 3
   },
   "file_extension": ".py",
   "mimetype": "text/x-python",
   "name": "python",
   "nbconvert_exporter": "python",
   "pygments_lexer": "ipython3",
   "version": "3.10.16"
  }
 },
 "nbformat": 4,
 "nbformat_minor": 5
}
